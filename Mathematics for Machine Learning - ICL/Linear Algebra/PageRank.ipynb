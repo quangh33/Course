{
 "cells": [
  {
   "cell_type": "markdown",
   "metadata": {
    "collapsed": true
   },
   "source": [
    "# PageRank\n",
    "In this notebook, you'll build on your knowledge of eigenvectors and eigenvalues by exploring the PageRank algorithm.\n",
    "The notebook is in two parts, the first is a worksheet to get you up to speed with how the algorithm works - here we will look at a micro-internet with fewer than 10 websites and see what it does and what can go wrong.\n",
    "The second is an assessment which will test your application of eigentheory to this problem by writing code and calculating the page rank of a large network representing a sub-section of the internet."
   ]
  },
  {
   "cell_type": "markdown",
   "metadata": {},
   "source": [
    "## Part 1 - Worksheet\n",
    "### Introduction\n",
    "\n",
    "PageRank (developed by Larry Page and Sergey Brin) revolutionized web search by generating a\n",
    "ranked list of web pages based on the underlying connectivity of the web. The PageRank algorithm is\n",
    "based on an ideal random web surfer who, when reaching a page, goes to the next page by clicking on a\n",
    "link. The surfer has equal probability of clicking any link on the page and, when reaching a page with no\n",
    "links, has equal probability of moving to any other page by typing in its URL. In addition, the surfer may\n",
    "occasionally choose to type in a random URL instead of following the links on a page. The PageRank is\n",
    "the ranked order of the pages from the most to the least probable page the surfer will be viewing.\n"
   ]
  },
  {
   "cell_type": "code",
   "execution_count": 3,
   "metadata": {},
   "outputs": [
    {
     "name": "stdout",
     "output_type": "stream",
     "text": [
      "Populating the interactive namespace from numpy and matplotlib\n"
     ]
    }
   ],
   "source": [
    "# Before we begin, let's load the libraries.\n",
    "%pylab notebook\n",
    "import numpy as np\n",
    "import numpy.linalg as la\n",
    "from readonly.PageRankFunctions import *\n",
    "np.set_printoptions(suppress=True)"
   ]
  },
  {
   "cell_type": "code",
   "execution_count": null,
   "metadata": {
    "collapsed": true
   },
   "outputs": [],
   "source": []
  },
  {
   "cell_type": "markdown",
   "metadata": {},
   "source": [
    "### PageRank as a linear algebra problem\n",
    "Let's imagine a micro-internet, with just 6 websites (**A**vocado, **B**ullseye, **C**atBabel, **D**romeda, **e**Tings, and **F**aceSpace).\n",
    "Each website links to some of the others, and this forms a network as shown,\n",
    "\n",
    "![A Micro-Internet](readonly/internet.png \"A Micro-Internet\")\n",
    "\n",
    "The design principle of PageRank is that important websites will be linked to by important websites.\n",
    "This somewhat recursive principle will form the basis of our thinking.\n",
    "\n",
    "Imagine we have 100 *Procrastinating Pat*s on our micro-internet, each viewing a single website at a time.\n",
    "Each minute the Pats follow a link on their website to another site on the micro-internet.\n",
    "After a while, the websites that are most linked to will have more Pats visiting them, and in the long run, each minute for every Pat that leaves a website, another will enter keeping the total numbers of Pats on each website constant.\n",
    "The PageRank is simply the ranking of websites by how many Pats they have on them at the end of this process.\n",
    "\n",
    "We represent the number of Pats on each website with the vector,\n",
    "$$\\mathbf{r} = \\begin{bmatrix} r_A \\\\ r_B \\\\ r_C \\\\ r_D \\\\ r_E \\\\ r_F \\end{bmatrix}$$\n",
    "And say that the number of Pats on each website in minute $i+1$ is related to those at minute $i$ by the matrix transformation\n",
    "\n",
    "$$ \\mathbf{r}^{(i+1)} = L \\,\\mathbf{r}^{(i)}$$\n",
    "with the matrix $L$ taking the form,\n",
    "$$ L = \\begin{bmatrix}\n",
    "L_{A→A} & L_{B→A} & L_{C→A} & L_{D→A} & L_{E→A} & L_{F→A} \\\\\n",
    "L_{A→B} & L_{B→B} & L_{C→B} & L_{D→B} & L_{E→B} & L_{F→B} \\\\\n",
    "L_{A→C} & L_{B→C} & L_{C→C} & L_{D→C} & L_{E→C} & L_{F→C} \\\\\n",
    "L_{A→D} & L_{B→D} & L_{C→D} & L_{D→D} & L_{E→D} & L_{F→D} \\\\\n",
    "L_{A→E} & L_{B→E} & L_{C→E} & L_{D→E} & L_{E→E} & L_{F→E} \\\\\n",
    "L_{A→F} & L_{B→F} & L_{C→F} & L_{D→F} & L_{E→F} & L_{F→F} \\\\\n",
    "\\end{bmatrix}\n",
    "$$\n",
    "where the columns represent the probability of leaving a website for any other website, and sum to one.\n",
    "The rows determine how likely you are to enter a website from any other, though these need not add to one.\n",
    "The long time behaviour of this system is when $ \\mathbf{r}^{(i+1)} = \\mathbf{r}^{(i)}$, so we'll drop the superscripts here, and that allows us to write,\n",
    "$$ L \\,\\mathbf{r} = \\mathbf{r}$$\n",
    "\n",
    "which is an eigenvalue equation for the matrix $L$, with eigenvalue 1 (this is guaranteed by the probabalistic structure of the matrix $L$).\n",
    "\n",
    "Complete the matrix $L$ below, we've left out the column for which websites the *FaceSpace* website (F) links to.\n",
    "Remember, this is the probability to click on another website from this one, so each column should add to one (by scaling by the number of links)."
   ]
  },
  {
   "cell_type": "code",
   "execution_count": 4,
   "metadata": {
    "collapsed": true
   },
   "outputs": [],
   "source": [
    "# Replace the ??? here with the probability of clicking a link to each website when leaving Website F (FaceSpace).\n",
    "L = np.array([[0,   1/2, 1/3, 0, 0,   0 ],\n",
    "              [1/3, 0,   0,   0, 1/2, 0 ],\n",
    "              [1/3, 1/2, 0,   1, 0,   1/2 ],\n",
    "              [1/3, 0,   1/3, 0, 1/2, 1/2 ],\n",
    "              [0,   0,   0,   0, 0,   0 ],\n",
    "              [0,   0,   1/3, 0, 0,   0 ]])"
   ]
  },
  {
   "cell_type": "code",
   "execution_count": null,
   "metadata": {
    "collapsed": true
   },
   "outputs": [],
   "source": []
  },
  {
   "cell_type": "markdown",
   "metadata": {},
   "source": [
    "In principle, we could use a linear algebra library, as below, to calculate the eigenvalues and vectors.\n",
    "And this would work for a small system. But this gets unmanagable for large systems.\n",
    "And since we only care about the principal eigenvector (the one with the largest eigenvalue, which will be 1 in this case), we can use the *power iteration method* which will scale better, and is faster for large systems.\n",
    "\n",
    "Use the code below to peek at the PageRank for this micro-internet."
   ]
  },
  {
   "cell_type": "code",
   "execution_count": 5,
   "metadata": {},
   "outputs": [
    {
     "data": {
      "text/plain": [
       "array([ 16.        ,   5.33333333,  40.        ,  25.33333333,\n",
       "         0.        ,  13.33333333])"
      ]
     },
     "execution_count": 5,
     "metadata": {},
     "output_type": "execute_result"
    }
   ],
   "source": [
    "eVals, eVecs = la.eig(L) # Gets the eigenvalues and vectors\n",
    "order = np.absolute(eVals).argsort()[::-1] # Orders them by their eigenvalues\n",
    "eVals = eVals[order]\n",
    "eVecs = eVecs[:,order]\n",
    "\n",
    "r = eVecs[:, 0] # Sets r to be the principal eigenvector\n",
    "100 * np.real(r / np.sum(r)) # Make this eigenvector sum to one, then multiply by 100 Procrastinating Pats"
   ]
  },
  {
   "cell_type": "code",
   "execution_count": null,
   "metadata": {
    "collapsed": true
   },
   "outputs": [],
   "source": []
  },
  {
   "cell_type": "markdown",
   "metadata": {},
   "source": [
    "We can see from this list, the number of Procrastinating Pats that we expect to find on each website after long times.\n",
    "Putting them in order of *popularity* (based on this metric), the PageRank of this micro-internet is:\n",
    "\n",
    "**C**atBabel, **D**romeda, **A**vocado, **F**aceSpace, **B**ullseye, **e**Tings\n",
    "\n",
    "Referring back to the micro-internet diagram, is this what you would have expected?\n",
    "Convince yourself that based on which pages seem important given which others link to them, that this is a sensible ranking.\n",
    "\n",
    "Let's now try to get the same result using the Power-Iteration method that was covered in the video.\n",
    "This method will be much better at dealing with large systems.\n",
    "\n",
    "First let's set up our initial vector, $\\mathbf{r}^{(0)}$, so that we have our 100 Procrastinating Pats equally distributed on each of our 6 websites."
   ]
  },
  {
   "cell_type": "code",
   "execution_count": 6,
   "metadata": {},
   "outputs": [
    {
     "data": {
      "text/plain": [
       "array([ 16.66666667,  16.66666667,  16.66666667,  16.66666667,\n",
       "        16.66666667,  16.66666667])"
      ]
     },
     "execution_count": 6,
     "metadata": {},
     "output_type": "execute_result"
    }
   ],
   "source": [
    "r = 100 * np.ones(6) / 6 # Sets up this vector (6 entries of 1/6 × 100 each)\n",
    "r # Shows it's value"
   ]
  },
  {
   "cell_type": "code",
   "execution_count": null,
   "metadata": {
    "collapsed": true
   },
   "outputs": [],
   "source": []
  },
  {
   "cell_type": "markdown",
   "metadata": {},
   "source": [
    "Next, let's update the vector to the next minute, with the matrix $L$.\n",
    "Run the following cell multiple times, until the answer stabilises."
   ]
  },
  {
   "cell_type": "code",
   "execution_count": 35,
   "metadata": {},
   "outputs": [
    {
     "data": {
      "text/plain": [
       "array([ 16.00000842,   5.33333218,  39.99997834,  25.33333731,\n",
       "         0.        ,  13.33334376])"
      ]
     },
     "execution_count": 35,
     "metadata": {},
     "output_type": "execute_result"
    }
   ],
   "source": [
    "r = L @ r # Apply matrix L to r\n",
    "r # Show it's value\n",
    "# Re-run this cell multiple times to converge to the correct answer."
   ]
  },
  {
   "cell_type": "code",
   "execution_count": null,
   "metadata": {
    "collapsed": true
   },
   "outputs": [],
   "source": []
  },
  {
   "cell_type": "code",
   "execution_count": null,
   "metadata": {
    "collapsed": true
   },
   "outputs": [],
   "source": []
  },
  {
   "cell_type": "code",
   "execution_count": null,
   "metadata": {
    "collapsed": true
   },
   "outputs": [],
   "source": []
  },
  {
   "cell_type": "code",
   "execution_count": null,
   "metadata": {
    "collapsed": true
   },
   "outputs": [],
   "source": []
  },
  {
   "cell_type": "code",
   "execution_count": null,
   "metadata": {
    "collapsed": true
   },
   "outputs": [],
   "source": []
  },
  {
   "cell_type": "code",
   "execution_count": null,
   "metadata": {
    "collapsed": true
   },
   "outputs": [],
   "source": []
  },
  {
   "cell_type": "code",
   "execution_count": null,
   "metadata": {
    "collapsed": true
   },
   "outputs": [],
   "source": []
  },
  {
   "cell_type": "code",
   "execution_count": null,
   "metadata": {
    "collapsed": true
   },
   "outputs": [],
   "source": []
  },
  {
   "cell_type": "code",
   "execution_count": null,
   "metadata": {
    "collapsed": true
   },
   "outputs": [],
   "source": []
  },
  {
   "cell_type": "code",
   "execution_count": null,
   "metadata": {
    "collapsed": true
   },
   "outputs": [],
   "source": []
  },
  {
   "cell_type": "code",
   "execution_count": null,
   "metadata": {
    "collapsed": true
   },
   "outputs": [],
   "source": []
  },
  {
   "cell_type": "code",
   "execution_count": null,
   "metadata": {
    "collapsed": true
   },
   "outputs": [],
   "source": []
  },
  {
   "cell_type": "code",
   "execution_count": null,
   "metadata": {
    "collapsed": true
   },
   "outputs": [],
   "source": []
  },
  {
   "cell_type": "code",
   "execution_count": null,
   "metadata": {
    "collapsed": true
   },
   "outputs": [],
   "source": []
  },
  {
   "cell_type": "code",
   "execution_count": null,
   "metadata": {
    "collapsed": true
   },
   "outputs": [],
   "source": []
  },
  {
   "cell_type": "code",
   "execution_count": null,
   "metadata": {
    "collapsed": true
   },
   "outputs": [],
   "source": []
  },
  {
   "cell_type": "code",
   "execution_count": null,
   "metadata": {
    "collapsed": true
   },
   "outputs": [],
   "source": []
  },
  {
   "cell_type": "code",
   "execution_count": null,
   "metadata": {
    "collapsed": true
   },
   "outputs": [],
   "source": []
  },
  {
   "cell_type": "code",
   "execution_count": null,
   "metadata": {
    "collapsed": true
   },
   "outputs": [],
   "source": []
  },
  {
   "cell_type": "code",
   "execution_count": null,
   "metadata": {
    "collapsed": true
   },
   "outputs": [],
   "source": []
  },
  {
   "cell_type": "code",
   "execution_count": null,
   "metadata": {
    "collapsed": true
   },
   "outputs": [],
   "source": []
  },
  {
   "cell_type": "code",
   "execution_count": null,
   "metadata": {
    "collapsed": true
   },
   "outputs": [],
   "source": []
  },
  {
   "cell_type": "code",
   "execution_count": null,
   "metadata": {
    "collapsed": true
   },
   "outputs": [],
   "source": []
  },
  {
   "cell_type": "code",
   "execution_count": null,
   "metadata": {
    "collapsed": true
   },
   "outputs": [],
   "source": []
  },
  {
   "cell_type": "code",
   "execution_count": null,
   "metadata": {
    "collapsed": true
   },
   "outputs": [],
   "source": []
  },
  {
   "cell_type": "code",
   "execution_count": null,
   "metadata": {
    "collapsed": true
   },
   "outputs": [],
   "source": []
  },
  {
   "cell_type": "code",
   "execution_count": null,
   "metadata": {
    "collapsed": true
   },
   "outputs": [],
   "source": []
  },
  {
   "cell_type": "code",
   "execution_count": null,
   "metadata": {
    "collapsed": true
   },
   "outputs": [],
   "source": []
  },
  {
   "cell_type": "code",
   "execution_count": null,
   "metadata": {
    "collapsed": true
   },
   "outputs": [],
   "source": []
  },
  {
   "cell_type": "markdown",
   "metadata": {},
   "source": [
    "We can automate applying this matrix multiple times as follows,"
   ]
  },
  {
   "cell_type": "code",
   "execution_count": 36,
   "metadata": {},
   "outputs": [
    {
     "data": {
      "text/plain": [
       "array([ 16.        ,   5.33333333,  40.        ,  25.33333333,\n",
       "         0.        ,  13.33333333])"
      ]
     },
     "execution_count": 36,
     "metadata": {},
     "output_type": "execute_result"
    }
   ],
   "source": [
    "r = 100 * np.ones(6) / 6 # Sets up this vector (6 entries of 1/6 × 100 each)\n",
    "for i in np.arange(100) : # Repeat 100 times\n",
    "    r = L @ r\n",
    "r"
   ]
  },
  {
   "cell_type": "code",
   "execution_count": null,
   "metadata": {
    "collapsed": true
   },
   "outputs": [],
   "source": []
  },
  {
   "cell_type": "markdown",
   "metadata": {},
   "source": [
    "Or even better, we can keep running until we get to the required tolerance."
   ]
  },
  {
   "cell_type": "code",
   "execution_count": 37,
   "metadata": {},
   "outputs": [
    {
     "name": "stdout",
     "output_type": "stream",
     "text": [
      "18 iterations to convergence.\n"
     ]
    },
    {
     "data": {
      "text/plain": [
       "array([ 16.00149917,   5.33252025,  39.99916911,  25.3324738 ,\n",
       "         0.        ,  13.33433767])"
      ]
     },
     "execution_count": 37,
     "metadata": {},
     "output_type": "execute_result"
    }
   ],
   "source": [
    "r = 100 * np.ones(6) / 6 # Sets up this vector (6 entries of 1/6 × 100 each)\n",
    "lastR = r\n",
    "r = L @ r\n",
    "i = 0\n",
    "while la.norm(lastR - r) > 0.01 :\n",
    "    lastR = r\n",
    "    r = L @ r\n",
    "    i += 1\n",
    "print(str(i) + \" iterations to convergence.\")\n",
    "r"
   ]
  },
  {
   "cell_type": "code",
   "execution_count": null,
   "metadata": {
    "collapsed": true
   },
   "outputs": [],
   "source": []
  },
  {
   "cell_type": "markdown",
   "metadata": {},
   "source": [
    "See how the PageRank order is established fairly quickly, and the vector converges on the value we calculated earlier after a few tens of repeats.\n",
    "\n",
    "Congratulations! You've just calculated your first PageRank!"
   ]
  },
  {
   "cell_type": "markdown",
   "metadata": {},
   "source": [
    "### Damping Parameter\n",
    "The system we just studied converged fairly quickly to the correct answer.\n",
    "Let's consider an extension to our micro-internet where things start to go wrong.\n",
    "\n",
    "Say a new website is added to the micro-internet: *Geoff's* Website.\n",
    "This website is linked to by *FaceSpace* and only links to itself.\n",
    "![An Expanded Micro-Internet](readonly/internet2.png \"An Expanded Micro-Internet\")\n",
    "\n",
    "Intuitively, only *FaceSpace*, which is in the bottom half of the page rank, links to this website amongst the two others it links to,\n",
    "so we might expect *Geoff's* site to have a correspondingly low PageRank score.\n",
    "\n",
    "Build the new $L$ matrix for the expanded micro-internet, and use Power-Iteration on the Procrastinating Pat vector.\n",
    "See what happens…"
   ]
  },
  {
   "cell_type": "code",
   "execution_count": 39,
   "metadata": {
    "collapsed": true
   },
   "outputs": [],
   "source": [
    " # We'll call this one L2, to distinguish it from the previous L.\n",
    "L2 = np.array([[0,   1/2, 1/3, 0, 0,   0, 0 ],\n",
    "               [1/3, 0,   0,   0, 1/2, 0, 0 ],\n",
    "               [1/3, 1/2, 0,   1, 0,   1/3, 0 ],\n",
    "               [1/3, 0,   1/3, 0, 1/2, 1/3, 0 ],\n",
    "               [0,   0,   0,   0, 0,   0, 0 ],\n",
    "               [0,   0,   1/3, 0, 0,   0, 0 ],\n",
    "               [0,   0,   0,   0, 0,   1/3, 1 ]])"
   ]
  },
  {
   "cell_type": "code",
   "execution_count": null,
   "metadata": {
    "collapsed": true
   },
   "outputs": [],
   "source": []
  },
  {
   "cell_type": "code",
   "execution_count": null,
   "metadata": {
    "collapsed": true
   },
   "outputs": [],
   "source": []
  },
  {
   "cell_type": "code",
   "execution_count": 40,
   "metadata": {},
   "outputs": [
    {
     "name": "stdout",
     "output_type": "stream",
     "text": [
      "131 iterations to convergence.\n"
     ]
    },
    {
     "data": {
      "text/plain": [
       "array([  0.03046998,   0.01064323,   0.07126612,   0.04423198,\n",
       "         0.        ,   0.02489342,  99.81849527])"
      ]
     },
     "execution_count": 40,
     "metadata": {},
     "output_type": "execute_result"
    }
   ],
   "source": [
    "r = 100 * np.ones(7) / 7 # Sets up this vector (6 entries of 1/6 × 100 each)\n",
    "lastR = r\n",
    "r = L2 @ r\n",
    "i = 0\n",
    "while la.norm(lastR - r) > 0.01 :\n",
    "    lastR = r\n",
    "    r = L2 @ r\n",
    "    i += 1\n",
    "print(str(i) + \" iterations to convergence.\")\n",
    "r"
   ]
  },
  {
   "cell_type": "code",
   "execution_count": null,
   "metadata": {
    "collapsed": true
   },
   "outputs": [],
   "source": []
  },
  {
   "cell_type": "markdown",
   "metadata": {},
   "source": [
    "That's no good! *Geoff* seems to be taking all the traffic on the micro-internet, and somehow coming at the top of the PageRank.\n",
    "This behaviour can be understood, because once a Pat get's to *Geoff's* Website, they can't leave, as all links head back to Geoff.\n",
    "\n",
    "To combat this, we can add a small probability that the Procrastinating Pats don't follow any link on a webpage, but instead visit a website on the micro-internet at random.\n",
    "We'll say the probability of them following a link is $d$ and the probability of choosing a random website is therefore $1-d$.\n",
    "We can use a new matrix to work out where the Pat's visit each minute.\n",
    "$$ M = d \\, L + \\frac{1-d}{n} \\, J $$\n",
    "where $J$ is an $n\\times n$ matrix where every element is one.\n",
    "\n",
    "If $d$ is one, we have the case we had previously, whereas if $d$ is zero, we will always visit a random webpage and therefore all webpages will be equally likely and equally ranked.\n",
    "For this extension to work best, $1-d$ should be somewhat small - though we won't go into a discussion about exactly how small.\n",
    "\n",
    "Let's retry this PageRank with this extension."
   ]
  },
  {
   "cell_type": "code",
   "execution_count": 41,
   "metadata": {
    "collapsed": true
   },
   "outputs": [],
   "source": [
    "d = 0.5 # Feel free to play with this parameter after running the code once.\n",
    "M = d * L2 + (1-d)/7 * np.ones([7, 7]) # np.ones() is the J matrix, with ones for each entry."
   ]
  },
  {
   "cell_type": "code",
   "execution_count": null,
   "metadata": {
    "collapsed": true
   },
   "outputs": [],
   "source": []
  },
  {
   "cell_type": "code",
   "execution_count": 42,
   "metadata": {},
   "outputs": [
    {
     "name": "stdout",
     "output_type": "stream",
     "text": [
      "8 iterations to convergence.\n"
     ]
    },
    {
     "data": {
      "text/plain": [
       "array([ 13.68217054,  11.20902965,  22.41964343,  16.7593433 ,\n",
       "         7.14285714,  10.87976354,  17.90719239])"
      ]
     },
     "execution_count": 42,
     "metadata": {},
     "output_type": "execute_result"
    }
   ],
   "source": [
    "r = 100 * np.ones(7) / 7 # Sets up this vector (6 entries of 1/6 × 100 each)\n",
    "lastR = r\n",
    "r = M @ r\n",
    "i = 0\n",
    "while la.norm(lastR - r) > 0.01 :\n",
    "    lastR = r\n",
    "    r = M @ r\n",
    "    i += 1\n",
    "print(str(i) + \" iterations to convergence.\")\n",
    "r"
   ]
  },
  {
   "cell_type": "code",
   "execution_count": null,
   "metadata": {
    "collapsed": true
   },
   "outputs": [],
   "source": []
  },
  {
   "cell_type": "markdown",
   "metadata": {},
   "source": [
    "This is certainly better, the PageRank gives sensible numbers for the Procrastinating Pats that end up on each webpage.\n",
    "This method still predicts Geoff has a high ranking webpage however.\n",
    "This could be seen as a consequence of using a small network. We could also get around the problem by not counting self-links when producing the L matrix (an if a website has no outgoing links, make it link to all websites equally).\n",
    "We won't look further down this route, as this is in the realm of improvements to PageRank, rather than eigenproblems.\n",
    "\n",
    "You are now in a good position, having gained an understanding of PageRank, to produce your own code to calculate the PageRank of a website with thousands of entries.\n",
    "\n",
    "Good Luck!"
   ]
  },
  {
   "cell_type": "markdown",
   "metadata": {},
   "source": [
    "## Part 2 - Assessment\n",
    "In this assessment, you will be asked to produce a function that can calculate the PageRank for an arbitrarily large probability matrix.\n",
    "This, the final assignment of the course, will give less guidance than previous assessments.\n",
    "You will be expected to utilise code from earlier in the worksheet and re-purpose it to your needs.\n",
    "\n",
    "### How to submit\n",
    "Edit the code in the cell below to complete the assignment.\n",
    "Once you are finished and happy with it, press the *Submit Assignment* button at the top of this notebook.\n",
    "\n",
    "Please don't change any of the function names, as these will be checked by the grading script.\n",
    "\n",
    "If you have further questions about submissions or programming assignments, here is a [list](https://www.coursera.org/learn/linear-algebra-machine-learning/discussions/weeks/1/threads/jB4klkn5EeibtBIQyzFmQg) of Q&A. You can also raise an issue on the discussion forum. Good luck!"
   ]
  },
  {
   "cell_type": "code",
   "execution_count": 43,
   "metadata": {
    "collapsed": true
   },
   "outputs": [],
   "source": [
    "# PACKAGE\n",
    "# Here are the imports again, just in case you need them.\n",
    "# There is no need to edit or submit this cell.\n",
    "import numpy as np\n",
    "import numpy.linalg as la\n",
    "from readonly.PageRankFunctions import *\n",
    "np.set_printoptions(suppress=True)"
   ]
  },
  {
   "cell_type": "code",
   "execution_count": null,
   "metadata": {
    "collapsed": true
   },
   "outputs": [],
   "source": []
  },
  {
   "cell_type": "code",
   "execution_count": 51,
   "metadata": {
    "collapsed": true
   },
   "outputs": [],
   "source": [
    "# GRADED FUNCTION\n",
    "# Complete this function to provide the PageRank for an arbitrarily sized internet.\n",
    "# I.e. the principal eigenvector of the damped system, using the power iteration method.\n",
    "# (Normalisation doesn't matter here)\n",
    "# The functions inputs are the linkMatrix, and d the damping parameter - as defined in this worksheet.\n",
    "# (The damping parameter, d, will be set by the function - no need to set this yourself.)\n",
    "def pageRank(linkMatrix, d) :\n",
    "    n = linkMatrix.shape[0]\n",
    "    M = d * linkMatrix + (1-d)/n * np.ones([n, n])\n",
    "    r = 100 * np.ones(n) / n\n",
    "    lastR = r\n",
    "    r = M @ r\n",
    "    i = 0\n",
    "    while la.norm(lastR - r) > 0.01 :\n",
    "        lastR = r\n",
    "        r = M @ r\n",
    "        i += 1\n",
    "    print(str(i) + \" iterations to convergence.\")\n",
    "    r\n",
    "    return r\n"
   ]
  },
  {
   "cell_type": "code",
   "execution_count": null,
   "metadata": {
    "collapsed": true
   },
   "outputs": [],
   "source": []
  },
  {
   "cell_type": "markdown",
   "metadata": {},
   "source": [
    "## Test your code before submission\n",
    "To test the code you've written above, run the cell (select the cell above, then press the play button [ ▶| ] or press shift-enter).\n",
    "You can then use the code below to test out your function.\n",
    "You don't need to submit this cell; you can edit and run it as much as you like."
   ]
  },
  {
   "cell_type": "code",
   "execution_count": 53,
   "metadata": {},
   "outputs": [
    {
     "data": {
      "text/plain": [
       "array([[ 1. ,  0.1,  0.1,  0. ,  0.1,  0. ,  1. ,  0. ,  0.1,  0. ],\n",
       "       [ 0. ,  0.1,  0.1,  0. ,  0.1,  0. ,  0. ,  0. ,  0.1,  0. ],\n",
       "       [ 0. ,  0.1,  0.1,  0. ,  0.1,  0. ,  0. ,  0. ,  0.1,  0. ],\n",
       "       [ 0. ,  0.1,  0.1,  0. ,  0.1,  0. ,  0. ,  0. ,  0.1,  0. ],\n",
       "       [ 0. ,  0.1,  0.1,  1. ,  0.1,  1. ,  0. ,  0. ,  0.1,  0. ],\n",
       "       [ 0. ,  0.1,  0.1,  0. ,  0.1,  0. ,  0. ,  1. ,  0.1,  0. ],\n",
       "       [ 0. ,  0.1,  0.1,  0. ,  0.1,  0. ,  0. ,  0. ,  0.1,  0. ],\n",
       "       [ 0. ,  0.1,  0.1,  0. ,  0.1,  0. ,  0. ,  0. ,  0.1,  0. ],\n",
       "       [ 0. ,  0.1,  0.1,  0. ,  0.1,  0. ,  0. ,  0. ,  0.1,  0.5],\n",
       "       [ 0. ,  0.1,  0.1,  0. ,  0.1,  0. ,  0. ,  0. ,  0.1,  0.5]])"
      ]
     },
     "execution_count": 53,
     "metadata": {},
     "output_type": "execute_result"
    }
   ],
   "source": [
    "# Use the following function to generate internets of different sizes.\n",
    "generate_internet(10)"
   ]
  },
  {
   "cell_type": "code",
   "execution_count": null,
   "metadata": {
    "collapsed": true
   },
   "outputs": [],
   "source": []
  },
  {
   "cell_type": "code",
   "execution_count": null,
   "metadata": {
    "collapsed": true
   },
   "outputs": [],
   "source": []
  },
  {
   "cell_type": "code",
   "execution_count": null,
   "metadata": {
    "collapsed": true
   },
   "outputs": [],
   "source": []
  },
  {
   "cell_type": "code",
   "execution_count": null,
   "metadata": {
    "collapsed": true
   },
   "outputs": [],
   "source": []
  },
  {
   "cell_type": "code",
   "execution_count": 54,
   "metadata": {
    "collapsed": true
   },
   "outputs": [],
   "source": [
    "# Test your PageRank method against the built in \"eig\" method.\n",
    "# You should see yours is a lot faster for large internets\n",
    "L = generate_internet(10)"
   ]
  },
  {
   "cell_type": "code",
   "execution_count": 55,
   "metadata": {},
   "outputs": [
    {
     "name": "stdout",
     "output_type": "stream",
     "text": [
      "25 iterations to convergence.\n"
     ]
    },
    {
     "data": {
      "text/plain": [
       "array([  0.00294569,  18.17919936,  63.61467971,   0.00504626,\n",
       "         0.00905229,   0.00504626,   0.00094268,   0.00094268,\n",
       "         0.00294569,  18.17919936])"
      ]
     },
     "execution_count": 55,
     "metadata": {},
     "output_type": "execute_result"
    }
   ],
   "source": [
    "pageRank(L, 1)"
   ]
  },
  {
   "cell_type": "code",
   "execution_count": 56,
   "metadata": {},
   "outputs": [
    {
     "data": {
      "text/plain": [
       "array([  0.00000004,  18.18182104,  63.63635783,   0.00000005,\n",
       "         0.00000008,   0.00000005,   0.00000002,   0.00000002,\n",
       "         0.00000004,  18.18182085])"
      ]
     },
     "execution_count": 56,
     "metadata": {},
     "output_type": "execute_result"
    }
   ],
   "source": [
    "# Do note, this is calculating the eigenvalues of the link matrix, L,\n",
    "# without any damping. It may give different results that your pageRank function.\n",
    "# If you wish, you could modify this cell to include damping.\n",
    "# (There is no credit for this though)\n",
    "eVals, eVecs = la.eig(L) # Gets the eigenvalues and vectors\n",
    "order = np.absolute(eVals).argsort()[::-1] # Orders them by their eigenvalues\n",
    "eVals = eVals[order]\n",
    "eVecs = eVecs[:,order]\n",
    "\n",
    "r = eVecs[:, 0]\n",
    "100 * np.real(r / np.sum(r))"
   ]
  },
  {
   "cell_type": "code",
   "execution_count": 57,
   "metadata": {},
   "outputs": [
    {
     "name": "stdout",
     "output_type": "stream",
     "text": [
      "Populating the interactive namespace from numpy and matplotlib\n",
      "35 iterations to convergence.\n"
     ]
    },
    {
     "data": {
      "application/javascript": [
       "/* Put everything inside the global mpl namespace */\n",
       "window.mpl = {};\n",
       "\n",
       "\n",
       "mpl.get_websocket_type = function() {\n",
       "    if (typeof(WebSocket) !== 'undefined') {\n",
       "        return WebSocket;\n",
       "    } else if (typeof(MozWebSocket) !== 'undefined') {\n",
       "        return MozWebSocket;\n",
       "    } else {\n",
       "        alert('Your browser does not have WebSocket support.' +\n",
       "              'Please try Chrome, Safari or Firefox ≥ 6. ' +\n",
       "              'Firefox 4 and 5 are also supported but you ' +\n",
       "              'have to enable WebSockets in about:config.');\n",
       "    };\n",
       "}\n",
       "\n",
       "mpl.figure = function(figure_id, websocket, ondownload, parent_element) {\n",
       "    this.id = figure_id;\n",
       "\n",
       "    this.ws = websocket;\n",
       "\n",
       "    this.supports_binary = (this.ws.binaryType != undefined);\n",
       "\n",
       "    if (!this.supports_binary) {\n",
       "        var warnings = document.getElementById(\"mpl-warnings\");\n",
       "        if (warnings) {\n",
       "            warnings.style.display = 'block';\n",
       "            warnings.textContent = (\n",
       "                \"This browser does not support binary websocket messages. \" +\n",
       "                    \"Performance may be slow.\");\n",
       "        }\n",
       "    }\n",
       "\n",
       "    this.imageObj = new Image();\n",
       "\n",
       "    this.context = undefined;\n",
       "    this.message = undefined;\n",
       "    this.canvas = undefined;\n",
       "    this.rubberband_canvas = undefined;\n",
       "    this.rubberband_context = undefined;\n",
       "    this.format_dropdown = undefined;\n",
       "\n",
       "    this.image_mode = 'full';\n",
       "\n",
       "    this.root = $('<div/>');\n",
       "    this._root_extra_style(this.root)\n",
       "    this.root.attr('style', 'display: inline-block');\n",
       "\n",
       "    $(parent_element).append(this.root);\n",
       "\n",
       "    this._init_header(this);\n",
       "    this._init_canvas(this);\n",
       "    this._init_toolbar(this);\n",
       "\n",
       "    var fig = this;\n",
       "\n",
       "    this.waiting = false;\n",
       "\n",
       "    this.ws.onopen =  function () {\n",
       "            fig.send_message(\"supports_binary\", {value: fig.supports_binary});\n",
       "            fig.send_message(\"send_image_mode\", {});\n",
       "            if (mpl.ratio != 1) {\n",
       "                fig.send_message(\"set_dpi_ratio\", {'dpi_ratio': mpl.ratio});\n",
       "            }\n",
       "            fig.send_message(\"refresh\", {});\n",
       "        }\n",
       "\n",
       "    this.imageObj.onload = function() {\n",
       "            if (fig.image_mode == 'full') {\n",
       "                // Full images could contain transparency (where diff images\n",
       "                // almost always do), so we need to clear the canvas so that\n",
       "                // there is no ghosting.\n",
       "                fig.context.clearRect(0, 0, fig.canvas.width, fig.canvas.height);\n",
       "            }\n",
       "            fig.context.drawImage(fig.imageObj, 0, 0);\n",
       "        };\n",
       "\n",
       "    this.imageObj.onunload = function() {\n",
       "        this.ws.close();\n",
       "    }\n",
       "\n",
       "    this.ws.onmessage = this._make_on_message_function(this);\n",
       "\n",
       "    this.ondownload = ondownload;\n",
       "}\n",
       "\n",
       "mpl.figure.prototype._init_header = function() {\n",
       "    var titlebar = $(\n",
       "        '<div class=\"ui-dialog-titlebar ui-widget-header ui-corner-all ' +\n",
       "        'ui-helper-clearfix\"/>');\n",
       "    var titletext = $(\n",
       "        '<div class=\"ui-dialog-title\" style=\"width: 100%; ' +\n",
       "        'text-align: center; padding: 3px;\"/>');\n",
       "    titlebar.append(titletext)\n",
       "    this.root.append(titlebar);\n",
       "    this.header = titletext[0];\n",
       "}\n",
       "\n",
       "\n",
       "\n",
       "mpl.figure.prototype._canvas_extra_style = function(canvas_div) {\n",
       "\n",
       "}\n",
       "\n",
       "\n",
       "mpl.figure.prototype._root_extra_style = function(canvas_div) {\n",
       "\n",
       "}\n",
       "\n",
       "mpl.figure.prototype._init_canvas = function() {\n",
       "    var fig = this;\n",
       "\n",
       "    var canvas_div = $('<div/>');\n",
       "\n",
       "    canvas_div.attr('style', 'position: relative; clear: both; outline: 0');\n",
       "\n",
       "    function canvas_keyboard_event(event) {\n",
       "        return fig.key_event(event, event['data']);\n",
       "    }\n",
       "\n",
       "    canvas_div.keydown('key_press', canvas_keyboard_event);\n",
       "    canvas_div.keyup('key_release', canvas_keyboard_event);\n",
       "    this.canvas_div = canvas_div\n",
       "    this._canvas_extra_style(canvas_div)\n",
       "    this.root.append(canvas_div);\n",
       "\n",
       "    var canvas = $('<canvas/>');\n",
       "    canvas.addClass('mpl-canvas');\n",
       "    canvas.attr('style', \"left: 0; top: 0; z-index: 0; outline: 0\")\n",
       "\n",
       "    this.canvas = canvas[0];\n",
       "    this.context = canvas[0].getContext(\"2d\");\n",
       "\n",
       "    var backingStore = this.context.backingStorePixelRatio ||\n",
       "\tthis.context.webkitBackingStorePixelRatio ||\n",
       "\tthis.context.mozBackingStorePixelRatio ||\n",
       "\tthis.context.msBackingStorePixelRatio ||\n",
       "\tthis.context.oBackingStorePixelRatio ||\n",
       "\tthis.context.backingStorePixelRatio || 1;\n",
       "\n",
       "    mpl.ratio = (window.devicePixelRatio || 1) / backingStore;\n",
       "\n",
       "    var rubberband = $('<canvas/>');\n",
       "    rubberband.attr('style', \"position: absolute; left: 0; top: 0; z-index: 1;\")\n",
       "\n",
       "    var pass_mouse_events = true;\n",
       "\n",
       "    canvas_div.resizable({\n",
       "        start: function(event, ui) {\n",
       "            pass_mouse_events = false;\n",
       "        },\n",
       "        resize: function(event, ui) {\n",
       "            fig.request_resize(ui.size.width, ui.size.height);\n",
       "        },\n",
       "        stop: function(event, ui) {\n",
       "            pass_mouse_events = true;\n",
       "            fig.request_resize(ui.size.width, ui.size.height);\n",
       "        },\n",
       "    });\n",
       "\n",
       "    function mouse_event_fn(event) {\n",
       "        if (pass_mouse_events)\n",
       "            return fig.mouse_event(event, event['data']);\n",
       "    }\n",
       "\n",
       "    rubberband.mousedown('button_press', mouse_event_fn);\n",
       "    rubberband.mouseup('button_release', mouse_event_fn);\n",
       "    // Throttle sequential mouse events to 1 every 20ms.\n",
       "    rubberband.mousemove('motion_notify', mouse_event_fn);\n",
       "\n",
       "    rubberband.mouseenter('figure_enter', mouse_event_fn);\n",
       "    rubberband.mouseleave('figure_leave', mouse_event_fn);\n",
       "\n",
       "    canvas_div.on(\"wheel\", function (event) {\n",
       "        event = event.originalEvent;\n",
       "        event['data'] = 'scroll'\n",
       "        if (event.deltaY < 0) {\n",
       "            event.step = 1;\n",
       "        } else {\n",
       "            event.step = -1;\n",
       "        }\n",
       "        mouse_event_fn(event);\n",
       "    });\n",
       "\n",
       "    canvas_div.append(canvas);\n",
       "    canvas_div.append(rubberband);\n",
       "\n",
       "    this.rubberband = rubberband;\n",
       "    this.rubberband_canvas = rubberband[0];\n",
       "    this.rubberband_context = rubberband[0].getContext(\"2d\");\n",
       "    this.rubberband_context.strokeStyle = \"#000000\";\n",
       "\n",
       "    this._resize_canvas = function(width, height) {\n",
       "        // Keep the size of the canvas, canvas container, and rubber band\n",
       "        // canvas in synch.\n",
       "        canvas_div.css('width', width)\n",
       "        canvas_div.css('height', height)\n",
       "\n",
       "        canvas.attr('width', width * mpl.ratio);\n",
       "        canvas.attr('height', height * mpl.ratio);\n",
       "        canvas.attr('style', 'width: ' + width + 'px; height: ' + height + 'px;');\n",
       "\n",
       "        rubberband.attr('width', width);\n",
       "        rubberband.attr('height', height);\n",
       "    }\n",
       "\n",
       "    // Set the figure to an initial 600x600px, this will subsequently be updated\n",
       "    // upon first draw.\n",
       "    this._resize_canvas(600, 600);\n",
       "\n",
       "    // Disable right mouse context menu.\n",
       "    $(this.rubberband_canvas).bind(\"contextmenu\",function(e){\n",
       "        return false;\n",
       "    });\n",
       "\n",
       "    function set_focus () {\n",
       "        canvas.focus();\n",
       "        canvas_div.focus();\n",
       "    }\n",
       "\n",
       "    window.setTimeout(set_focus, 100);\n",
       "}\n",
       "\n",
       "mpl.figure.prototype._init_toolbar = function() {\n",
       "    var fig = this;\n",
       "\n",
       "    var nav_element = $('<div/>')\n",
       "    nav_element.attr('style', 'width: 100%');\n",
       "    this.root.append(nav_element);\n",
       "\n",
       "    // Define a callback function for later on.\n",
       "    function toolbar_event(event) {\n",
       "        return fig.toolbar_button_onclick(event['data']);\n",
       "    }\n",
       "    function toolbar_mouse_event(event) {\n",
       "        return fig.toolbar_button_onmouseover(event['data']);\n",
       "    }\n",
       "\n",
       "    for(var toolbar_ind in mpl.toolbar_items) {\n",
       "        var name = mpl.toolbar_items[toolbar_ind][0];\n",
       "        var tooltip = mpl.toolbar_items[toolbar_ind][1];\n",
       "        var image = mpl.toolbar_items[toolbar_ind][2];\n",
       "        var method_name = mpl.toolbar_items[toolbar_ind][3];\n",
       "\n",
       "        if (!name) {\n",
       "            // put a spacer in here.\n",
       "            continue;\n",
       "        }\n",
       "        var button = $('<button/>');\n",
       "        button.addClass('ui-button ui-widget ui-state-default ui-corner-all ' +\n",
       "                        'ui-button-icon-only');\n",
       "        button.attr('role', 'button');\n",
       "        button.attr('aria-disabled', 'false');\n",
       "        button.click(method_name, toolbar_event);\n",
       "        button.mouseover(tooltip, toolbar_mouse_event);\n",
       "\n",
       "        var icon_img = $('<span/>');\n",
       "        icon_img.addClass('ui-button-icon-primary ui-icon');\n",
       "        icon_img.addClass(image);\n",
       "        icon_img.addClass('ui-corner-all');\n",
       "\n",
       "        var tooltip_span = $('<span/>');\n",
       "        tooltip_span.addClass('ui-button-text');\n",
       "        tooltip_span.html(tooltip);\n",
       "\n",
       "        button.append(icon_img);\n",
       "        button.append(tooltip_span);\n",
       "\n",
       "        nav_element.append(button);\n",
       "    }\n",
       "\n",
       "    var fmt_picker_span = $('<span/>');\n",
       "\n",
       "    var fmt_picker = $('<select/>');\n",
       "    fmt_picker.addClass('mpl-toolbar-option ui-widget ui-widget-content');\n",
       "    fmt_picker_span.append(fmt_picker);\n",
       "    nav_element.append(fmt_picker_span);\n",
       "    this.format_dropdown = fmt_picker[0];\n",
       "\n",
       "    for (var ind in mpl.extensions) {\n",
       "        var fmt = mpl.extensions[ind];\n",
       "        var option = $(\n",
       "            '<option/>', {selected: fmt === mpl.default_extension}).html(fmt);\n",
       "        fmt_picker.append(option)\n",
       "    }\n",
       "\n",
       "    // Add hover states to the ui-buttons\n",
       "    $( \".ui-button\" ).hover(\n",
       "        function() { $(this).addClass(\"ui-state-hover\");},\n",
       "        function() { $(this).removeClass(\"ui-state-hover\");}\n",
       "    );\n",
       "\n",
       "    var status_bar = $('<span class=\"mpl-message\"/>');\n",
       "    nav_element.append(status_bar);\n",
       "    this.message = status_bar[0];\n",
       "}\n",
       "\n",
       "mpl.figure.prototype.request_resize = function(x_pixels, y_pixels) {\n",
       "    // Request matplotlib to resize the figure. Matplotlib will then trigger a resize in the client,\n",
       "    // which will in turn request a refresh of the image.\n",
       "    this.send_message('resize', {'width': x_pixels, 'height': y_pixels});\n",
       "}\n",
       "\n",
       "mpl.figure.prototype.send_message = function(type, properties) {\n",
       "    properties['type'] = type;\n",
       "    properties['figure_id'] = this.id;\n",
       "    this.ws.send(JSON.stringify(properties));\n",
       "}\n",
       "\n",
       "mpl.figure.prototype.send_draw_message = function() {\n",
       "    if (!this.waiting) {\n",
       "        this.waiting = true;\n",
       "        this.ws.send(JSON.stringify({type: \"draw\", figure_id: this.id}));\n",
       "    }\n",
       "}\n",
       "\n",
       "\n",
       "mpl.figure.prototype.handle_save = function(fig, msg) {\n",
       "    var format_dropdown = fig.format_dropdown;\n",
       "    var format = format_dropdown.options[format_dropdown.selectedIndex].value;\n",
       "    fig.ondownload(fig, format);\n",
       "}\n",
       "\n",
       "\n",
       "mpl.figure.prototype.handle_resize = function(fig, msg) {\n",
       "    var size = msg['size'];\n",
       "    if (size[0] != fig.canvas.width || size[1] != fig.canvas.height) {\n",
       "        fig._resize_canvas(size[0], size[1]);\n",
       "        fig.send_message(\"refresh\", {});\n",
       "    };\n",
       "}\n",
       "\n",
       "mpl.figure.prototype.handle_rubberband = function(fig, msg) {\n",
       "    var x0 = msg['x0'] / mpl.ratio;\n",
       "    var y0 = (fig.canvas.height - msg['y0']) / mpl.ratio;\n",
       "    var x1 = msg['x1'] / mpl.ratio;\n",
       "    var y1 = (fig.canvas.height - msg['y1']) / mpl.ratio;\n",
       "    x0 = Math.floor(x0) + 0.5;\n",
       "    y0 = Math.floor(y0) + 0.5;\n",
       "    x1 = Math.floor(x1) + 0.5;\n",
       "    y1 = Math.floor(y1) + 0.5;\n",
       "    var min_x = Math.min(x0, x1);\n",
       "    var min_y = Math.min(y0, y1);\n",
       "    var width = Math.abs(x1 - x0);\n",
       "    var height = Math.abs(y1 - y0);\n",
       "\n",
       "    fig.rubberband_context.clearRect(\n",
       "        0, 0, fig.canvas.width, fig.canvas.height);\n",
       "\n",
       "    fig.rubberband_context.strokeRect(min_x, min_y, width, height);\n",
       "}\n",
       "\n",
       "mpl.figure.prototype.handle_figure_label = function(fig, msg) {\n",
       "    // Updates the figure title.\n",
       "    fig.header.textContent = msg['label'];\n",
       "}\n",
       "\n",
       "mpl.figure.prototype.handle_cursor = function(fig, msg) {\n",
       "    var cursor = msg['cursor'];\n",
       "    switch(cursor)\n",
       "    {\n",
       "    case 0:\n",
       "        cursor = 'pointer';\n",
       "        break;\n",
       "    case 1:\n",
       "        cursor = 'default';\n",
       "        break;\n",
       "    case 2:\n",
       "        cursor = 'crosshair';\n",
       "        break;\n",
       "    case 3:\n",
       "        cursor = 'move';\n",
       "        break;\n",
       "    }\n",
       "    fig.rubberband_canvas.style.cursor = cursor;\n",
       "}\n",
       "\n",
       "mpl.figure.prototype.handle_message = function(fig, msg) {\n",
       "    fig.message.textContent = msg['message'];\n",
       "}\n",
       "\n",
       "mpl.figure.prototype.handle_draw = function(fig, msg) {\n",
       "    // Request the server to send over a new figure.\n",
       "    fig.send_draw_message();\n",
       "}\n",
       "\n",
       "mpl.figure.prototype.handle_image_mode = function(fig, msg) {\n",
       "    fig.image_mode = msg['mode'];\n",
       "}\n",
       "\n",
       "mpl.figure.prototype.updated_canvas_event = function() {\n",
       "    // Called whenever the canvas gets updated.\n",
       "    this.send_message(\"ack\", {});\n",
       "}\n",
       "\n",
       "// A function to construct a web socket function for onmessage handling.\n",
       "// Called in the figure constructor.\n",
       "mpl.figure.prototype._make_on_message_function = function(fig) {\n",
       "    return function socket_on_message(evt) {\n",
       "        if (evt.data instanceof Blob) {\n",
       "            /* FIXME: We get \"Resource interpreted as Image but\n",
       "             * transferred with MIME type text/plain:\" errors on\n",
       "             * Chrome.  But how to set the MIME type?  It doesn't seem\n",
       "             * to be part of the websocket stream */\n",
       "            evt.data.type = \"image/png\";\n",
       "\n",
       "            /* Free the memory for the previous frames */\n",
       "            if (fig.imageObj.src) {\n",
       "                (window.URL || window.webkitURL).revokeObjectURL(\n",
       "                    fig.imageObj.src);\n",
       "            }\n",
       "\n",
       "            fig.imageObj.src = (window.URL || window.webkitURL).createObjectURL(\n",
       "                evt.data);\n",
       "            fig.updated_canvas_event();\n",
       "            fig.waiting = false;\n",
       "            return;\n",
       "        }\n",
       "        else if (typeof evt.data === 'string' && evt.data.slice(0, 21) == \"data:image/png;base64\") {\n",
       "            fig.imageObj.src = evt.data;\n",
       "            fig.updated_canvas_event();\n",
       "            fig.waiting = false;\n",
       "            return;\n",
       "        }\n",
       "\n",
       "        var msg = JSON.parse(evt.data);\n",
       "        var msg_type = msg['type'];\n",
       "\n",
       "        // Call the  \"handle_{type}\" callback, which takes\n",
       "        // the figure and JSON message as its only arguments.\n",
       "        try {\n",
       "            var callback = fig[\"handle_\" + msg_type];\n",
       "        } catch (e) {\n",
       "            console.log(\"No handler for the '\" + msg_type + \"' message type: \", msg);\n",
       "            return;\n",
       "        }\n",
       "\n",
       "        if (callback) {\n",
       "            try {\n",
       "                // console.log(\"Handling '\" + msg_type + \"' message: \", msg);\n",
       "                callback(fig, msg);\n",
       "            } catch (e) {\n",
       "                console.log(\"Exception inside the 'handler_\" + msg_type + \"' callback:\", e, e.stack, msg);\n",
       "            }\n",
       "        }\n",
       "    };\n",
       "}\n",
       "\n",
       "// from http://stackoverflow.com/questions/1114465/getting-mouse-location-in-canvas\n",
       "mpl.findpos = function(e) {\n",
       "    //this section is from http://www.quirksmode.org/js/events_properties.html\n",
       "    var targ;\n",
       "    if (!e)\n",
       "        e = window.event;\n",
       "    if (e.target)\n",
       "        targ = e.target;\n",
       "    else if (e.srcElement)\n",
       "        targ = e.srcElement;\n",
       "    if (targ.nodeType == 3) // defeat Safari bug\n",
       "        targ = targ.parentNode;\n",
       "\n",
       "    // jQuery normalizes the pageX and pageY\n",
       "    // pageX,Y are the mouse positions relative to the document\n",
       "    // offset() returns the position of the element relative to the document\n",
       "    var x = e.pageX - $(targ).offset().left;\n",
       "    var y = e.pageY - $(targ).offset().top;\n",
       "\n",
       "    return {\"x\": x, \"y\": y};\n",
       "};\n",
       "\n",
       "/*\n",
       " * return a copy of an object with only non-object keys\n",
       " * we need this to avoid circular references\n",
       " * http://stackoverflow.com/a/24161582/3208463\n",
       " */\n",
       "function simpleKeys (original) {\n",
       "  return Object.keys(original).reduce(function (obj, key) {\n",
       "    if (typeof original[key] !== 'object')\n",
       "        obj[key] = original[key]\n",
       "    return obj;\n",
       "  }, {});\n",
       "}\n",
       "\n",
       "mpl.figure.prototype.mouse_event = function(event, name) {\n",
       "    var canvas_pos = mpl.findpos(event)\n",
       "\n",
       "    if (name === 'button_press')\n",
       "    {\n",
       "        this.canvas.focus();\n",
       "        this.canvas_div.focus();\n",
       "    }\n",
       "\n",
       "    var x = canvas_pos.x * mpl.ratio;\n",
       "    var y = canvas_pos.y * mpl.ratio;\n",
       "\n",
       "    this.send_message(name, {x: x, y: y, button: event.button,\n",
       "                             step: event.step,\n",
       "                             guiEvent: simpleKeys(event)});\n",
       "\n",
       "    /* This prevents the web browser from automatically changing to\n",
       "     * the text insertion cursor when the button is pressed.  We want\n",
       "     * to control all of the cursor setting manually through the\n",
       "     * 'cursor' event from matplotlib */\n",
       "    event.preventDefault();\n",
       "    return false;\n",
       "}\n",
       "\n",
       "mpl.figure.prototype._key_event_extra = function(event, name) {\n",
       "    // Handle any extra behaviour associated with a key event\n",
       "}\n",
       "\n",
       "mpl.figure.prototype.key_event = function(event, name) {\n",
       "\n",
       "    // Prevent repeat events\n",
       "    if (name == 'key_press')\n",
       "    {\n",
       "        if (event.which === this._key)\n",
       "            return;\n",
       "        else\n",
       "            this._key = event.which;\n",
       "    }\n",
       "    if (name == 'key_release')\n",
       "        this._key = null;\n",
       "\n",
       "    var value = '';\n",
       "    if (event.ctrlKey && event.which != 17)\n",
       "        value += \"ctrl+\";\n",
       "    if (event.altKey && event.which != 18)\n",
       "        value += \"alt+\";\n",
       "    if (event.shiftKey && event.which != 16)\n",
       "        value += \"shift+\";\n",
       "\n",
       "    value += 'k';\n",
       "    value += event.which.toString();\n",
       "\n",
       "    this._key_event_extra(event, name);\n",
       "\n",
       "    this.send_message(name, {key: value,\n",
       "                             guiEvent: simpleKeys(event)});\n",
       "    return false;\n",
       "}\n",
       "\n",
       "mpl.figure.prototype.toolbar_button_onclick = function(name) {\n",
       "    if (name == 'download') {\n",
       "        this.handle_save(this, null);\n",
       "    } else {\n",
       "        this.send_message(\"toolbar_button\", {name: name});\n",
       "    }\n",
       "};\n",
       "\n",
       "mpl.figure.prototype.toolbar_button_onmouseover = function(tooltip) {\n",
       "    this.message.textContent = tooltip;\n",
       "};\n",
       "mpl.toolbar_items = [[\"Home\", \"Reset original view\", \"fa fa-home icon-home\", \"home\"], [\"Back\", \"Back to  previous view\", \"fa fa-arrow-left icon-arrow-left\", \"back\"], [\"Forward\", \"Forward to next view\", \"fa fa-arrow-right icon-arrow-right\", \"forward\"], [\"\", \"\", \"\", \"\"], [\"Pan\", \"Pan axes with left mouse, zoom with right\", \"fa fa-arrows icon-move\", \"pan\"], [\"Zoom\", \"Zoom to rectangle\", \"fa fa-square-o icon-check-empty\", \"zoom\"], [\"\", \"\", \"\", \"\"], [\"Download\", \"Download plot\", \"fa fa-floppy-o icon-save\", \"download\"]];\n",
       "\n",
       "mpl.extensions = [\"eps\", \"jpeg\", \"pdf\", \"png\", \"ps\", \"raw\", \"svg\", \"tif\"];\n",
       "\n",
       "mpl.default_extension = \"png\";var comm_websocket_adapter = function(comm) {\n",
       "    // Create a \"websocket\"-like object which calls the given IPython comm\n",
       "    // object with the appropriate methods. Currently this is a non binary\n",
       "    // socket, so there is still some room for performance tuning.\n",
       "    var ws = {};\n",
       "\n",
       "    ws.close = function() {\n",
       "        comm.close()\n",
       "    };\n",
       "    ws.send = function(m) {\n",
       "        //console.log('sending', m);\n",
       "        comm.send(m);\n",
       "    };\n",
       "    // Register the callback with on_msg.\n",
       "    comm.on_msg(function(msg) {\n",
       "        //console.log('receiving', msg['content']['data'], msg);\n",
       "        // Pass the mpl event to the overriden (by mpl) onmessage function.\n",
       "        ws.onmessage(msg['content']['data'])\n",
       "    });\n",
       "    return ws;\n",
       "}\n",
       "\n",
       "mpl.mpl_figure_comm = function(comm, msg) {\n",
       "    // This is the function which gets called when the mpl process\n",
       "    // starts-up an IPython Comm through the \"matplotlib\" channel.\n",
       "\n",
       "    var id = msg.content.data.id;\n",
       "    // Get hold of the div created by the display call when the Comm\n",
       "    // socket was opened in Python.\n",
       "    var element = $(\"#\" + id);\n",
       "    var ws_proxy = comm_websocket_adapter(comm)\n",
       "\n",
       "    function ondownload(figure, format) {\n",
       "        window.open(figure.imageObj.src);\n",
       "    }\n",
       "\n",
       "    var fig = new mpl.figure(id, ws_proxy,\n",
       "                           ondownload,\n",
       "                           element.get(0));\n",
       "\n",
       "    // Call onopen now - mpl needs it, as it is assuming we've passed it a real\n",
       "    // web socket which is closed, not our websocket->open comm proxy.\n",
       "    ws_proxy.onopen();\n",
       "\n",
       "    fig.parent_element = element.get(0);\n",
       "    fig.cell_info = mpl.find_output_cell(\"<div id='\" + id + \"'></div>\");\n",
       "    if (!fig.cell_info) {\n",
       "        console.error(\"Failed to find cell for figure\", id, fig);\n",
       "        return;\n",
       "    }\n",
       "\n",
       "    var output_index = fig.cell_info[2]\n",
       "    var cell = fig.cell_info[0];\n",
       "\n",
       "};\n",
       "\n",
       "mpl.figure.prototype.handle_close = function(fig, msg) {\n",
       "    var width = fig.canvas.width/mpl.ratio\n",
       "    fig.root.unbind('remove')\n",
       "\n",
       "    // Update the output cell to use the data from the current canvas.\n",
       "    fig.push_to_output();\n",
       "    var dataURL = fig.canvas.toDataURL();\n",
       "    // Re-enable the keyboard manager in IPython - without this line, in FF,\n",
       "    // the notebook keyboard shortcuts fail.\n",
       "    IPython.keyboard_manager.enable()\n",
       "    $(fig.parent_element).html('<img src=\"' + dataURL + '\" width=\"' + width + '\">');\n",
       "    fig.close_ws(fig, msg);\n",
       "}\n",
       "\n",
       "mpl.figure.prototype.close_ws = function(fig, msg){\n",
       "    fig.send_message('closing', msg);\n",
       "    // fig.ws.close()\n",
       "}\n",
       "\n",
       "mpl.figure.prototype.push_to_output = function(remove_interactive) {\n",
       "    // Turn the data on the canvas into data in the output cell.\n",
       "    var width = this.canvas.width/mpl.ratio\n",
       "    var dataURL = this.canvas.toDataURL();\n",
       "    this.cell_info[1]['text/html'] = '<img src=\"' + dataURL + '\" width=\"' + width + '\">';\n",
       "}\n",
       "\n",
       "mpl.figure.prototype.updated_canvas_event = function() {\n",
       "    // Tell IPython that the notebook contents must change.\n",
       "    IPython.notebook.set_dirty(true);\n",
       "    this.send_message(\"ack\", {});\n",
       "    var fig = this;\n",
       "    // Wait a second, then push the new image to the DOM so\n",
       "    // that it is saved nicely (might be nice to debounce this).\n",
       "    setTimeout(function () { fig.push_to_output() }, 1000);\n",
       "}\n",
       "\n",
       "mpl.figure.prototype._init_toolbar = function() {\n",
       "    var fig = this;\n",
       "\n",
       "    var nav_element = $('<div/>')\n",
       "    nav_element.attr('style', 'width: 100%');\n",
       "    this.root.append(nav_element);\n",
       "\n",
       "    // Define a callback function for later on.\n",
       "    function toolbar_event(event) {\n",
       "        return fig.toolbar_button_onclick(event['data']);\n",
       "    }\n",
       "    function toolbar_mouse_event(event) {\n",
       "        return fig.toolbar_button_onmouseover(event['data']);\n",
       "    }\n",
       "\n",
       "    for(var toolbar_ind in mpl.toolbar_items){\n",
       "        var name = mpl.toolbar_items[toolbar_ind][0];\n",
       "        var tooltip = mpl.toolbar_items[toolbar_ind][1];\n",
       "        var image = mpl.toolbar_items[toolbar_ind][2];\n",
       "        var method_name = mpl.toolbar_items[toolbar_ind][3];\n",
       "\n",
       "        if (!name) { continue; };\n",
       "\n",
       "        var button = $('<button class=\"btn btn-default\" href=\"#\" title=\"' + name + '\"><i class=\"fa ' + image + ' fa-lg\"></i></button>');\n",
       "        button.click(method_name, toolbar_event);\n",
       "        button.mouseover(tooltip, toolbar_mouse_event);\n",
       "        nav_element.append(button);\n",
       "    }\n",
       "\n",
       "    // Add the status bar.\n",
       "    var status_bar = $('<span class=\"mpl-message\" style=\"text-align:right; float: right;\"/>');\n",
       "    nav_element.append(status_bar);\n",
       "    this.message = status_bar[0];\n",
       "\n",
       "    // Add the close button to the window.\n",
       "    var buttongrp = $('<div class=\"btn-group inline pull-right\"></div>');\n",
       "    var button = $('<button class=\"btn btn-mini btn-primary\" href=\"#\" title=\"Stop Interaction\"><i class=\"fa fa-power-off icon-remove icon-large\"></i></button>');\n",
       "    button.click(function (evt) { fig.handle_close(fig, {}); } );\n",
       "    button.mouseover('Stop Interaction', toolbar_mouse_event);\n",
       "    buttongrp.append(button);\n",
       "    var titlebar = this.root.find($('.ui-dialog-titlebar'));\n",
       "    titlebar.prepend(buttongrp);\n",
       "}\n",
       "\n",
       "mpl.figure.prototype._root_extra_style = function(el){\n",
       "    var fig = this\n",
       "    el.on(\"remove\", function(){\n",
       "\tfig.close_ws(fig, {});\n",
       "    });\n",
       "}\n",
       "\n",
       "mpl.figure.prototype._canvas_extra_style = function(el){\n",
       "    // this is important to make the div 'focusable\n",
       "    el.attr('tabindex', 0)\n",
       "    // reach out to IPython and tell the keyboard manager to turn it's self\n",
       "    // off when our div gets focus\n",
       "\n",
       "    // location in version 3\n",
       "    if (IPython.notebook.keyboard_manager) {\n",
       "        IPython.notebook.keyboard_manager.register_events(el);\n",
       "    }\n",
       "    else {\n",
       "        // location in version 2\n",
       "        IPython.keyboard_manager.register_events(el);\n",
       "    }\n",
       "\n",
       "}\n",
       "\n",
       "mpl.figure.prototype._key_event_extra = function(event, name) {\n",
       "    var manager = IPython.notebook.keyboard_manager;\n",
       "    if (!manager)\n",
       "        manager = IPython.keyboard_manager;\n",
       "\n",
       "    // Check for shift+enter\n",
       "    if (event.shiftKey && event.which == 13) {\n",
       "        this.canvas_div.blur();\n",
       "        // select the cell after this one\n",
       "        var index = IPython.notebook.find_cell_index(this.cell_info[0]);\n",
       "        IPython.notebook.select(index + 1);\n",
       "    }\n",
       "}\n",
       "\n",
       "mpl.figure.prototype.handle_save = function(fig, msg) {\n",
       "    fig.ondownload(fig, null);\n",
       "}\n",
       "\n",
       "\n",
       "mpl.find_output_cell = function(html_output) {\n",
       "    // Return the cell and output element which can be found *uniquely* in the notebook.\n",
       "    // Note - this is a bit hacky, but it is done because the \"notebook_saving.Notebook\"\n",
       "    // IPython event is triggered only after the cells have been serialised, which for\n",
       "    // our purposes (turning an active figure into a static one), is too late.\n",
       "    var cells = IPython.notebook.get_cells();\n",
       "    var ncells = cells.length;\n",
       "    for (var i=0; i<ncells; i++) {\n",
       "        var cell = cells[i];\n",
       "        if (cell.cell_type === 'code'){\n",
       "            for (var j=0; j<cell.output_area.outputs.length; j++) {\n",
       "                var data = cell.output_area.outputs[j];\n",
       "                if (data.data) {\n",
       "                    // IPython >= 3 moved mimebundle to data attribute of output\n",
       "                    data = data.data;\n",
       "                }\n",
       "                if (data['text/html'] == html_output) {\n",
       "                    return [cell, data, j];\n",
       "                }\n",
       "            }\n",
       "        }\n",
       "    }\n",
       "}\n",
       "\n",
       "// Register the function which deals with the matplotlib target/channel.\n",
       "// The kernel may be null if the page has been refreshed.\n",
       "if (IPython.notebook.kernel != null) {\n",
       "    IPython.notebook.kernel.comm_manager.register_target('matplotlib', mpl.mpl_figure_comm);\n",
       "}\n"
      ],
      "text/plain": [
       "<IPython.core.display.Javascript object>"
      ]
     },
     "metadata": {},
     "output_type": "display_data"
    },
    {
     "data": {
      "text/html": [
       "<img src=\"data:image/png;base64,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\" width=\"639.9999861283738\">"
      ],
      "text/plain": [
       "<IPython.core.display.HTML object>"
      ]
     },
     "metadata": {},
     "output_type": "display_data"
    }
   ],
   "source": [
    "# You may wish to view the PageRank graphically.\n",
    "# This code will draw a bar chart, for each (numbered) website on the generated internet,\n",
    "# The height of each bar will be the score in the PageRank.\n",
    "# Run this code to see the PageRank for each internet you generate.\n",
    "# Hopefully you should see what you might expect\n",
    "# - there are a few clusters of important websites, but most on the internet are rubbish!\n",
    "%pylab notebook\n",
    "r = pageRank(generate_internet(100), 0.9)\n",
    "plt.bar(arange(r.shape[0]), r);"
   ]
  },
  {
   "cell_type": "code",
   "execution_count": null,
   "metadata": {
    "collapsed": true
   },
   "outputs": [],
   "source": []
  }
 ],
 "metadata": {
  "coursera": {
   "course_slug": "linear-algebra-machine-learning",
   "graded_item_id": "Sfbnp",
   "launcher_item_id": "aPxf3"
  },
  "kernelspec": {
   "display_name": "Python 3",
   "language": "python",
   "name": "python3"
  },
  "language_info": {
   "codemirror_mode": {
    "name": "ipython",
    "version": 3
   },
   "file_extension": ".py",
   "mimetype": "text/x-python",
   "name": "python",
   "nbconvert_exporter": "python",
   "pygments_lexer": "ipython3",
   "version": "3.6.2"
  }
 },
 "nbformat": 4,
 "nbformat_minor": 1
}
